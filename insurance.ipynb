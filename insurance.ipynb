{
  "nbformat": 4,
  "nbformat_minor": 0,
  "metadata": {
    "colab": {
      "name": "insurance",
      "provenance": [],
      "authorship_tag": "ABX9TyPqKHAZW7hqgEl79AI4xkpF",
      "include_colab_link": true
    },
    "kernelspec": {
      "name": "python3",
      "display_name": "Python 3"
    }
  },
  "cells": [
    {
      "cell_type": "markdown",
      "metadata": {
        "id": "view-in-github",
        "colab_type": "text"
      },
      "source": [
        "<a href=\"https://colab.research.google.com/github/tastiz/api_practice/blob/master/insurance.ipynb\" target=\"_parent\"><img src=\"https://colab.research.google.com/assets/colab-badge.svg\" alt=\"Open In Colab\"/></a>"
      ]
    },
    {
      "cell_type": "code",
      "metadata": {
        "id": "cLPrEskvgTWK",
        "colab_type": "code",
        "outputId": "a66d9cb9-dcc2-4229-960d-a6e45caa5e59",
        "colab": {
          "base_uri": "https://localhost:8080/",
          "height": 187
        }
      },
      "source": [
        "from sqlalchemy import create_engine\n",
        "\n",
        "postgres_user = 'dabc_student'\n",
        "postgres_pw = '7*.8G9QH21'\n",
        "postgres_host = '142.93.121.174'\n",
        "postgres_port = '5432'\n",
        "postgres_db = 'medicalcosts'\n",
        "\n",
        "engine = create_engine('postgresql://{}:{}@{}:{}/{}'.format(\n",
        "    postgres_user, postgres_pw, postgres_host, postgres_port, postgres_db))\n",
        "\n",
        "sql = '''SELECT charges FROM medicalcosts WHERE sex = 'female' AND age BETWEEN 18 and 30 LIMIT 5'''\n",
        "\n",
        "# Use the connection to execute some SQL\n",
        "insurance = engine.execute(sql)\n",
        "\n",
        "# no need for an open connection, as we're only doing a single query\n",
        "engine.dispose()\n",
        "\n",
        "# Process the results\n",
        "for row in insurance:\n",
        "  print(row)\n",
        "\n",
        "insurance.keys()\n",
        "\n",
        "first_row = rows[0]\n",
        "#has_key() method returns True or False if a row has a specified key name\n",
        "print('The first row has a key named `age`: {}'.format(first_row.has_key('age')))\n",
        "print('The first row has a key named `height`: {}'.format(first_row.has_key('height')))\n",
        "\n",
        "# Access it by position\n",
        "bmi = first_row[2]\n",
        "\n",
        "# Access if by column name\n",
        "charges = first_row['charges']\n",
        "\n",
        "print('The first row has a bmi of {} and charges of ${}'.format(bmi, charges))\n",
        "\n",
        "# Find the total number of rows in the table\n",
        "row_count = engine.execute('select count(*) from medicalcosts')\n",
        "\n",
        "# dispose the connection\n",
        "engine.dispose()\n",
        "\n",
        "# fetch the first row from the Results\n",
        "ans = row_count.first()\n",
        "\n",
        "# print the count\n",
        "print('There are {} rows in the table'.format(ans['count']))\n",
        "\n",
        "sql = '''\n",
        "select \n",
        "  count(*) \n",
        "from \n",
        "  medicalcosts\n",
        "where \n",
        "  sex = 'female' '''\n",
        "\n",
        "row_count = engine.execute(sql)\n",
        "engine.dispose()\n",
        "ans = row_count.first()\n",
        "print('There are {} females in the table'.format(ans['count']))\n",
        "\n",
        "\n"
      ],
      "execution_count": 29,
      "outputs": [
        {
          "output_type": "stream",
          "text": [
            "(16884.9,)\n",
            "(4149.74,)\n",
            "(2198.19,)\n",
            "(4687.8,)\n",
            "(3046.06,)\n",
            "The first row has a key named `age`: True\n",
            "The first row has a key named `height`: False\n",
            "The first row has a bmi of 27.9 and charges of $16884.9\n",
            "There are 1338 rows in the table\n",
            "There are 662 females in the table\n"
          ],
          "name": "stdout"
        }
      ]
    }
  ]
}