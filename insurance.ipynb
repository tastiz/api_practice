{
  "nbformat": 4,
  "nbformat_minor": 0,
  "metadata": {
    "colab": {
      "name": "insurance",
      "provenance": [],
      "authorship_tag": "ABX9TyM8+xuLACIXS76TIlvBKrlt",
      "include_colab_link": true
    },
    "kernelspec": {
      "name": "python3",
      "display_name": "Python 3"
    }
  },
  "cells": [
    {
      "cell_type": "markdown",
      "metadata": {
        "id": "view-in-github",
        "colab_type": "text"
      },
      "source": [
        "<a href=\"https://colab.research.google.com/github/tastiz/api_practice/blob/master/insurance.ipynb\" target=\"_parent\"><img src=\"https://colab.research.google.com/assets/colab-badge.svg\" alt=\"Open In Colab\"/></a>"
      ]
    },
    {
      "cell_type": "code",
      "metadata": {
        "id": "cLPrEskvgTWK",
        "colab_type": "code",
        "colab": {
          "base_uri": "https://localhost:8080/",
          "height": 221
        },
        "outputId": "81b9ac6b-2cb8-477e-933c-7da3a50c0540"
      },
      "source": [
        "from sqlalchemy import create_engine\n",
        "\n",
        "postgres_user = 'dabc_student'\n",
        "postgres_pw = '7*.8G9QH21'\n",
        "postgres_host = '142.93.121.174'\n",
        "postgres_port = '5432'\n",
        "postgres_db = 'medicalcosts'\n",
        "\n",
        "engine = create_engine('postgresql://{}:{}@{}:{}/{}'.format(\n",
        "    postgres_user, postgres_pw, postgres_host, postgres_port, postgres_db))\n",
        "\n",
        "# Use the connection to execute some SQL\n",
        "insurance = engine.execute('select * from medicalcosts LIMIT 10')\n",
        "\n",
        "# no need for an open connection, as we're only doing a single query\n",
        "engine.dispose()\n",
        "\n",
        "# Process the results\n",
        "for row in insurance:\n",
        "  print(row)\n",
        "\n",
        "insurance.keys()\n",
        "\n",
        "first_row = rows[0]\n",
        "#has_key() method returns True or False if a row has a specified key name\n",
        "print('The first row has a key named `age`: {}'.format(first_row.has_key('age')))\n",
        "print('The first row has a key named `height`: {}'.format(first_row.has_key('height')))\n",
        "\n",
        "\n"
      ],
      "execution_count": 17,
      "outputs": [
        {
          "output_type": "stream",
          "text": [
            "(19, 'female', 27.9, 0, 'yes', 'southwest', 16884.9)\n",
            "(18, 'male', 33.77, 1, 'no', 'southeast', 1725.55)\n",
            "(28, 'male', 33.0, 3, 'no', 'southeast', 4449.46)\n",
            "(33, 'male', 22.705, 0, 'no', 'northwest', 21984.5)\n",
            "(32, 'male', 28.88, 0, 'no', 'northwest', 3866.86)\n",
            "(31, 'female', 25.74, 0, 'no', 'southeast', 3756.62)\n",
            "(46, 'female', 33.44, 1, 'no', 'southeast', 8240.59)\n",
            "(37, 'female', 27.74, 3, 'no', 'northwest', 7281.51)\n",
            "(37, 'male', 29.83, 2, 'no', 'northeast', 6406.41)\n",
            "(60, 'female', 25.84, 0, 'no', 'northwest', 28923.1)\n",
            "The first row has a key named `age`: True\n",
            "The first row has a key named `height`: False\n"
          ],
          "name": "stdout"
        }
      ]
    }
  ]
}