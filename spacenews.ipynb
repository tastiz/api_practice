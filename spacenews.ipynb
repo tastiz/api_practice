{
  "nbformat": 4,
  "nbformat_minor": 0,
  "metadata": {
    "colab": {
      "name": "spacenews",
      "provenance": [],
      "authorship_tag": "ABX9TyOhnteVhd5guOg4sSRSqTrS",
      "include_colab_link": true
    },
    "kernelspec": {
      "name": "python3",
      "display_name": "Python 3"
    }
  },
  "cells": [
    {
      "cell_type": "markdown",
      "metadata": {
        "id": "view-in-github",
        "colab_type": "text"
      },
      "source": [
        "<a href=\"https://colab.research.google.com/github/tastiz/api_practice/blob/master/spacenews.ipynb\" target=\"_parent\"><img src=\"https://colab.research.google.com/assets/colab-badge.svg\" alt=\"Open In Colab\"/></a>"
      ]
    },
    {
      "cell_type": "code",
      "metadata": {
        "id": "l70thTYmr2QG",
        "colab_type": "code",
        "outputId": "a8f6f461-9841-4a4d-8b77-da028c461f62",
        "colab": {
          "base_uri": "https://localhost:8080/",
          "height": 88
        }
      },
      "source": [
        "#takes the\n",
        "import requests\n",
        "\n",
        "url = 'https://www.space.com/news'\n",
        "response = requests.get(url)\n",
        "\n",
        "if(response.ok):\n",
        "  data = response.text\n",
        "  print(response.ok)\n",
        "\n",
        "from bs4 import BeautifulSoup\n",
        "\n",
        "soup = BeautifulSoup(data, 'html.parser')\n",
        "#print(soup.prettify())\n",
        "\n",
        "#print(soup.find_all(class_='listingResults mixed'))\n",
        "\n",
        "\n",
        "list = soup.find('ol')\n",
        "items = list.find_all('li')\n",
        "#print(items[0])\n",
        "\n",
        "articles = soup.find_all(class_='article-link')\n",
        "\n",
        "#print(articles)\n",
        "\n",
        "headline = soup.find_all(class_= 'listingResult small result3 ')\n",
        "\n",
        "#print(headline)\n",
        "\n",
        "synoposis = soup.find_all(class_= 'popular-listings')\n",
        "\n",
        "#print(synoposis)\n",
        "\n",
        "#print(content = soup.find_all(class_='content'))\n",
        "\n",
        "article_name = soup.find_all(class_= 'article-name')\n",
        "\n",
        "\n",
        "\n",
        "#news = {'headline': headline, 'synopsis': synopsis, 'author': author,\n",
        "        #'publish_date': publish_date}\n",
        "\n",
        "\n"
      ],
      "execution_count": 37,
      "outputs": [
        {
          "output_type": "stream",
          "text": [
            "True\n",
            "[<h3 class=\"article-name\">Watch live Saturday! SpaceX launching big Crew Dragon test flight @ 8 am ET (1300 GMT)</h3>, <h3 class=\"article-name\">High school student discovers alien planet with twin suns just days into a NASA internship</h3>, <h3 class=\"article-name\">How the tiny exoplanet-hunting ASTERIA satellite showed scientists what cubesats can do</h3>, <h3 class=\"article-name\">SpaceX is about to destroy a rocket in a critical Crew Dragon test flight. Here's why.</h3>, <h3 class=\"article-name\">Pictures from Space! Our Image of the Day</h3>, <h3 class=\"article-name\">On This Day in Space: Jan. 17, 1985: Final Aerobee sounding rocket launched</h3>, <h3 class=\"article-name\">Violent solar storms are happening closer to Earth than anyone thought was possible</h3>, <h3 class=\"article-name\">What will NASA's Mars 2020 rover be called? There's 155 names on the shortlist.</h3>, <h3 class=\"article-name\">Milky Way's cannibalistic past illuminated by ancient star's life story</h3>, <h3 class=\"article-name\">Stealth space startup SpinLaunch snares another $35 million from investors</h3>, <h3 class=\"article-name\">Astronaut joins Olay's star-studded Super Bowl ad to 'make space for women'</h3>, <h3 class=\"article-name\">NASA astronaut Christina Koch celebrates her 300th day in space</h3>, <h3 class=\"article-name\">In photos: Ariane 5 rocket lofts 2 satellites into orbit for Eutelsat, India</h3>, <h3 class=\"article-name\">Ariane 5 rocket launches communications satellites for India, Eutelsat into orbit</h3>, <h3 class=\"article-name\">Huge Philippines volcano eruption blasts ash 9 miles up as satellites watch (video)</h3>, <h3 class=\"article-name\">This super-sharp image could help explain the Milky Way's strange creamy center</h3>, <h3 class=\"article-name\">An Ariane 5 rocket will launch 2 communications satellites today. How to watch live</h3>, <h3 class=\"article-name\">Astronauts and addiction: Ending the stigma (op-ed)</h3>, <h3 class=\"article-name\">China lofts 4 satellites into orbit with its second launch of 2020\n",
            "</h3>, <h3 class=\"article-name\">2019 was the second hottest year on record, NASA says</h3>]\n"
          ],
          "name": "stdout"
        }
      ]
    }
  ]
}