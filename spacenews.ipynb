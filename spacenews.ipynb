{
  "nbformat": 4,
  "nbformat_minor": 0,
  "metadata": {
    "colab": {
      "name": "spacenews",
      "provenance": [],
      "authorship_tag": "ABX9TyMX0BLgldSGK6fVdsJK4ZAA",
      "include_colab_link": true
    },
    "kernelspec": {
      "name": "python3",
      "display_name": "Python 3"
    }
  },
  "cells": [
    {
      "cell_type": "markdown",
      "metadata": {
        "id": "view-in-github",
        "colab_type": "text"
      },
      "source": [
        "<a href=\"https://colab.research.google.com/github/tastiz/api_practice/blob/master/spacenews.ipynb\" target=\"_parent\"><img src=\"https://colab.research.google.com/assets/colab-badge.svg\" alt=\"Open In Colab\"/></a>"
      ]
    },
    {
      "cell_type": "code",
      "metadata": {
        "id": "l70thTYmr2QG",
        "colab_type": "code",
        "outputId": "c168e2a3-a87c-455c-8f34-081ca333bbc2",
        "colab": {
          "base_uri": "https://localhost:8080/",
          "height": 241
        }
      },
      "source": [
        "#takes the\n",
        "import requests\n",
        "\n",
        "url = 'https://www.space.com/news'\n",
        "response = requests.get(url)\n",
        "\n",
        "if(response.ok):\n",
        "  data = response.text\n",
        "  print(response.ok)\n",
        "\n",
        "from bs4 import BeautifulSoup\n",
        "\n",
        "soup = BeautifulSoup(data, 'html.parser')\n",
        "#print(soup.prettify())\n",
        "\n",
        "\n",
        "#print(items[0])\n",
        "\n",
        "#ud stands for uncleaned data\n",
        "ud_article_name = soup.find_all(class_= 'article-name')\n",
        "ud_author = soup.find_all(class_='by-author')\n",
        "ud_published_date = soup.find_all(class_='published-date relative-date')\n",
        "ud_synopsis = soup.find_all(class_='synopsis')\n",
        "\n",
        "ud_news = {'article_name': ud_article_name, 'synopsis': ud_synopsis, 'author': ud_author,\n",
        "        'published_date': ud_published_date}\n",
        "\n",
        "\n",
        "article_name = [article.get_text() for article in ud_article_name]\n",
        "print(article_name[2])\n",
        "author = [author.get_text() for author in ud_author]\n",
        "print(author[2])\n",
        "published_date = [published_date.get_text() for published_date in ud_published_date]\n",
        "print(published_date[2])\n",
        "synopsis = [synopsis.get_text() for synopsis in ud_synopsis]\n",
        "print(synopsis[2])\n",
        "\n",
        "news = []\n",
        "news.append({'article_name': article_name, 'synopsis': synopsis, 'author': author,\n",
        "        'published_date': published_date})\n",
        "print(news[0])\n",
        "\n",
        "\n",
        "\n",
        "\n",
        "\n",
        "#print(news['article_name'])\n"
      ],
      "execution_count": 0,
      "outputs": [
        {
          "output_type": "stream",
          "text": [
            "True\n",
            "High school student discovers alien planet with twin suns just days into a NASA internship\n",
            "\n",
            "By\n",
            "\n",
            "Doris Elin Urrutia \n",
            "\n",
            "\n",
            "\n",
            "A high school junior found a distant planet that orbits two stars, one of just a dozen such worlds known to scientists.\n",
            "\n",
            "{'article_name': [\"How to watch SpaceX's Crew Dragon abort test live online this Saturday\", 'Watch live Saturday! SpaceX launching big Crew Dragon test flight @ 8 am ET (1300 GMT)', 'High school student discovers alien planet with twin suns just days into a NASA internship', 'How the tiny exoplanet-hunting ASTERIA satellite showed scientists what cubesats can do', \"SpaceX is about to destroy a rocket in a critical Crew Dragon test flight. Here's why.\", 'Pictures from Space! Our Image of the Day', 'On This Day in Space: Jan. 17, 1985: Final Aerobee sounding rocket launched', 'Violent solar storms are happening closer to Earth than anyone thought was possible', \"What will NASA's Mars 2020 rover be called? There's 155 names on the shortlist.\", \"Milky Way's cannibalistic past illuminated by ancient star's life story\", 'Stealth space startup SpinLaunch snares another $35 million from investors', \"Astronaut joins Olay's star-studded Super Bowl ad to 'make space for women'\", 'NASA astronaut Christina Koch celebrates her 300th day in space', 'In photos: Ariane 5 rocket lofts 2 satellites into orbit for Eutelsat, India', 'Ariane 5 rocket launches communications satellites for India, Eutelsat into orbit', 'Huge Philippines volcano eruption blasts ash 9 miles up as satellites watch (video)', \"This super-sharp image could help explain the Milky Way's strange creamy center\", 'An Ariane 5 rocket will launch 2 communications satellites today. How to watch live', 'Astronauts and addiction: Ending the stigma (op-ed)', 'China lofts 4 satellites into orbit with its second launch of 2020\\n'], 'synopsis': ['\\nSpaceX will launch its Crew Dragon spacecraft on a critical abort test Saturday morning (Jan. 18), and you can watch it live online.\\n', '\\nSpaceX will launch a major test flight of its Crew Dragon spacecraft on Saturday, Jan. 18, to test its launch abort system and you can watch it live in the window above, courtesy of NASA TV.\\n', '\\nA high school junior found a distant planet that orbits two stars, one of just a dozen such worlds known to scientists.\\n', '\\nA tiny satellite studying alien worlds may be gone for good, but during the two years the spacecraft operated, it laid the foundation for what may become a new way of finding exoplanets.\\n', '\\nOn Saturday, Jan. 18, SpaceX will intentionally destroy one of its rockets in the name of safety.\\n', '\\nAn Ariane 5 rocket rises between the silhouettes of two palm trees as it lifts off into the cloud-covered evening sky in Kourou, French Guiana.\\n', '\\nOn January 17, 1985, the United States launched its 1,037th and final Aerobee rocket. See how it happened in our On This Day in Space video series!\\n', '\\nThe spectacular solar storms that paint the polar skies in beautiful greens and pinks have a darker side\\n', \"\\nThe competition to name NASA's next Mars rover has entered a new phase, with the space agency culling the field from 28,000 down to 155.\\n\", \"\\nA planet-hunting telescope recently made a new discovery about the Milky Way's past cannibalism.\\n\", \"\\nThe company's total investment haul is now $80 million.\\n\", '\\nA former NASA astronaut is starring in a Super Bowl ad to help \"make space for women.\"\\n', '\\nNASA astronaut Christina Koch has smashed another gender barrier. Koch recently surpassed her 300th consecutive day in space, which is the longest for any woman.\\n', '\\nIn its first launch of the year, Arianespace successfully used an Ariane 5 rocket to launch two new communications satellites into orbit for Eutelsat and India. See photos of the mission here!\\n', '\\nArianespace flew a pair of communications satellites safely into space Thursday (Jan. 16) during its first launch of 2020.\\n', '\\nThe Taal volcano eruption in the Philippines this week sent ash plumes 9 miles (14 kilometers) into the air, new satellite imagery shows.\\n', \"\\nWhat's going on in the middle of our galaxy?\\n\", '\\nThe European launch provider Arianespace will use an Ariane 5 rocket to launch two new communications satellites into orbit today (Jan. 16), and you can watch it live online.\\n', '\\nAstronauts sometimes face the gravest threats after they return to Earth. Facing depression, alcoholism and substance abuse in general, astronauts are not immune from addiction.\\n', \"\\nChina successfully sent four satellites into orbit early on Wednesday (Jan. 15) with the country's second launch of 2020.\\n\"], 'author': ['\\nBy\\n\\nAmy Thompson \\n', '\\nBy\\n\\nSpace.com Staff \\n', '\\nBy\\n\\nDoris Elin Urrutia \\n', '\\nBy\\n\\nMeghan Bartels \\n', '\\nBy\\n\\nAmy Thompson \\n', '\\nBy\\n\\nSpace.com Staff \\n', '\\nBy\\n\\nHanneke Weitering \\n', '\\nBy\\n\\nYasemin Saplakoglu \\n', '\\nBy\\n\\nMike Wall \\n', '\\nBy\\n\\nElizabeth Howell \\n', '\\nBy\\n\\nMike Wall \\n', '\\nBy\\n\\nRobert Z. Pearlman \\n', '\\nBy\\n\\nElizabeth Howell \\n', '\\nBy\\n\\nHanneke Weitering \\n', '\\nBy\\n\\nElizabeth Howell \\n', '\\nBy\\n\\nSamantha Mathewson \\n', '\\nBy\\n\\nRafi Letzter \\n', '\\nBy\\n\\nHanneke Weitering \\n', '\\nBy\\n\\nMichael D. Shaw \\n', '\\nBy\\n\\nAndrew Jones \\n'], 'published_date': ['', '', '', '', '', '', '', '', '', '', '', '', '', '', '', '', '', '', '', '']}\n"
          ],
          "name": "stdout"
        }
      ]
    },
    {
      "cell_type": "code",
      "metadata": {
        "id": "MhKLhXxvTzex",
        "colab_type": "code",
        "colab": {}
      },
      "source": [
        ""
      ],
      "execution_count": 0,
      "outputs": []
    }
  ]
}