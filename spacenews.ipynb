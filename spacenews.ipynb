{
  "nbformat": 4,
  "nbformat_minor": 0,
  "metadata": {
    "colab": {
      "name": "spacenews",
      "provenance": [],
      "authorship_tag": "ABX9TyMsUuwj/4GcNCbrumc8T815",
      "include_colab_link": true
    },
    "kernelspec": {
      "name": "python3",
      "display_name": "Python 3"
    }
  },
  "cells": [
    {
      "cell_type": "markdown",
      "metadata": {
        "id": "view-in-github",
        "colab_type": "text"
      },
      "source": [
        "<a href=\"https://colab.research.google.com/github/tastiz/api_practice/blob/master/spacenews.ipynb\" target=\"_parent\"><img src=\"https://colab.research.google.com/assets/colab-badge.svg\" alt=\"Open In Colab\"/></a>"
      ]
    },
    {
      "cell_type": "code",
      "metadata": {
        "id": "l70thTYmr2QG",
        "colab_type": "code",
        "outputId": "e91144c8-f6d0-4114-9759-d50e7f54f3f5",
        "colab": {
          "base_uri": "https://localhost:8080/",
          "height": 71
        }
      },
      "source": [
        "#takes the\n",
        "import requests\n",
        "\n",
        "url = 'https://www.space.com/news'\n",
        "response = requests.get(url)\n",
        "\n",
        "if(response.ok):\n",
        "  data = response.text\n",
        "  print(response.ok)\n",
        "\n",
        "from bs4 import BeautifulSoup\n",
        "\n",
        "soup = BeautifulSoup(data, 'html.parser')\n",
        "#print(soup.prettify())\n",
        "\n",
        "list = soup.find('ol')\n",
        "items = list.find_all('li')\n",
        "#print(items[0])\n",
        "\n",
        "#ud stands for uncleaned data\n",
        "ud_article_name = soup.find_all(class_= 'article-name')\n",
        "ud_author = soup.find_all(class_='by-author')\n",
        "ud_published_date = soup.find_all(class_='published-date relative-date')\n",
        "ud_synopsis = soup.find_all(class_='synopsis')\n",
        "\n",
        "ud_news = {'article_name': ud_article_name, 'synopsis': ud_synopsis, 'author': ud_author,\n",
        "        'published_date': ud_published_date}\n",
        "\n",
        "\n",
        "article_name = [article.get_text() for article in ud_article_name]\n",
        "author = [author.get_text() for author in ud_author]\n",
        "published_date = [published_date.get_text() for published_date in ud_published_date]\n",
        "synopsis = [synopsis.get_text() for synopsis in ud_synopsis]\n",
        "\n",
        "ud_news = {'article_name': ud_article_name, 'synopsis': ud_synopsis, 'author': ud_author,\n",
        "        'published_date': ud_published_date}\n",
        "\n",
        "\n",
        "\n",
        "#print(news['article_name'])\n"
      ],
      "execution_count": 58,
      "outputs": [
        {
          "output_type": "stream",
          "text": [
            "True\n",
            "[\"How to watch SpaceX's Crew Dragon abort test live online this Saturday\", 'Watch live Saturday! SpaceX launching big Crew Dragon test flight @ 8 am ET (1300 GMT)', 'High school student discovers alien planet with twin suns just days into a NASA internship', 'How the tiny exoplanet-hunting ASTERIA satellite showed scientists what cubesats can do', \"SpaceX is about to destroy a rocket in a critical Crew Dragon test flight. Here's why.\", 'Pictures from Space! Our Image of the Day', 'On This Day in Space: Jan. 17, 1985: Final Aerobee sounding rocket launched', 'Violent solar storms are happening closer to Earth than anyone thought was possible', \"What will NASA's Mars 2020 rover be called? There's 155 names on the shortlist.\", \"Milky Way's cannibalistic past illuminated by ancient star's life story\", 'Stealth space startup SpinLaunch snares another $35 million from investors', \"Astronaut joins Olay's star-studded Super Bowl ad to 'make space for women'\", 'NASA astronaut Christina Koch celebrates her 300th day in space', 'In photos: Ariane 5 rocket lofts 2 satellites into orbit for Eutelsat, India', 'Ariane 5 rocket launches communications satellites for India, Eutelsat into orbit', 'Huge Philippines volcano eruption blasts ash 9 miles up as satellites watch (video)', \"This super-sharp image could help explain the Milky Way's strange creamy center\", 'An Ariane 5 rocket will launch 2 communications satellites today. How to watch live', 'Astronauts and addiction: Ending the stigma (op-ed)', 'China lofts 4 satellites into orbit with its second launch of 2020\\n']\n"
          ],
          "name": "stdout"
        }
      ]
    }
  ]
}