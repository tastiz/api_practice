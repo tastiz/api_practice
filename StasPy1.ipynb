{
  "nbformat": 4,
  "nbformat_minor": 0,
  "metadata": {
    "colab": {
      "name": "StasPy1.ipynb",
      "provenance": [],
      "authorship_tag": "ABX9TyMmMdeteeAnnchvdAPmXekg",
      "include_colab_link": true
    },
    "kernelspec": {
      "name": "python3",
      "display_name": "Python 3"
    }
  },
  "cells": [
    {
      "cell_type": "markdown",
      "metadata": {
        "id": "view-in-github",
        "colab_type": "text"
      },
      "source": [
        "<a href=\"https://colab.research.google.com/github/tastiz/api_practice/blob/master/StasPy1.ipynb\" target=\"_parent\"><img src=\"https://colab.research.google.com/assets/colab-badge.svg\" alt=\"Open In Colab\"/></a>"
      ]
    },
    {
      "cell_type": "code",
      "metadata": {
        "id": "ozWwe2tOCaJG",
        "colab_type": "code",
        "colab": {
          "base_uri": "https://localhost:8080/",
          "height": 34
        },
        "outputId": "22103147-5800-45bd-8cf4-2ab444b13444"
      },
      "source": [
        "# To keep the page organized do all imports here\n",
        "from sqlalchemy import create_engine\n",
        "import pandas as pd\n",
        "from scipy import stats\n",
        "\n",
        "#Database credentials\n",
        "postgres_user = 'dabc_student'\n",
        "postgres_pw = '7*.8G9QH21'\n",
        "postgres_host = '142.93.121.174'\n",
        "postgres_port = '5432'\n",
        "postgres_db = 'kickstarterprojects'\n",
        "\n",
        "# use the credentials to start a connection\n",
        "engine = create_engine('postgresql://{}:{}@{}:{}/{}'.format(\n",
        "    postgres_user, postgres_pw, postgres_host, postgres_port, postgres_db))\n",
        "\n",
        "projects_df = pd.read_sql_table('ksprojects', con=engine)\n",
        "\n",
        "# remove the connection\n",
        "engine.dispose()\n",
        "\n",
        "projects_df.shape\n",
        "\n",
        "projects_df.info()"
      ],
      "execution_count": 5,
      "outputs": [
        {
          "output_type": "execute_result",
          "data": {
            "text/plain": [
              "(65418, 13)"
            ]
          },
          "metadata": {
            "tags": []
          },
          "execution_count": 5
        }
      ]
    }
  ]
}