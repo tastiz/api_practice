{
  "nbformat": 4,
  "nbformat_minor": 0,
  "metadata": {
    "colab": {
      "name": "wepscraping1",
      "provenance": [],
      "authorship_tag": "ABX9TyNxoBSxc+isXYsc+CqIlFJm",
      "include_colab_link": true
    },
    "kernelspec": {
      "name": "python3",
      "display_name": "Python 3"
    }
  },
  "cells": [
    {
      "cell_type": "markdown",
      "metadata": {
        "id": "view-in-github",
        "colab_type": "text"
      },
      "source": [
        "<a href=\"https://colab.research.google.com/github/tastiz/api_practice/blob/master/wepscraping1.ipynb\" target=\"_parent\"><img src=\"https://colab.research.google.com/assets/colab-badge.svg\" alt=\"Open In Colab\"/></a>"
      ]
    },
    {
      "cell_type": "code",
      "metadata": {
        "id": "JWt5Oq4ppxy0",
        "colab_type": "code",
        "colab": {}
      },
      "source": [
        "import requests\n",
        "url = 'http://pun.me/pages/funny-jokes.php'\n",
        "response = requests.get(url)\n",
        "\n",
        "if (response.ok):\n",
        "  data = response.text\n",
        "  #print(data)\n",
        "\n",
        "#BeautifulSoup parses through text to make scraping more readable\n",
        "from bs4 import BeautifulSoup\n",
        "\n",
        "soup = BeautifulSoup(data, 'html.parser')\n",
        "\n",
        "#cleans html source code\n",
        "#print(soup.prettify())\n",
        "\n",
        "soup.find_all('ol')\n",
        "\n",
        "#creates a list that is broken by all 'ol' makes and seperates by 'li'\n",
        "list = soup.find('ol')\n",
        "items =list.find_all('li')\n",
        "\n",
        "#removes 'li' text around individual jokes to make more presetable\n",
        "jokes = [joke.get_text() for joke in items]\n",
        "print(jokes)\n"
      ],
      "execution_count": 0,
      "outputs": []
    },
    {
      "cell_type": "code",
      "metadata": {
        "id": "C-xeg8zktI1_",
        "colab_type": "code",
        "colab": {
          "base_uri": "https://localhost:8080/",
          "height": 51
        },
        "outputId": "95d08859-cb3d-4c3b-c492-ae242e4f473e"
      },
      "source": [
        "url = 'https://stackoverflow.com/jobs'\n",
        "response = requests.get(url)\n",
        "\n",
        "# make sure we got a valid response\n",
        "if(response.ok):\n",
        "  # get the full data from the response\n",
        "  data = response.text\n",
        "  soup = BeautifulSoup(data, 'html.parser')\n",
        "  \n",
        "  # find all elements with class *-job-summary*\n",
        "  summary =soup.find_all(class_='-job-summary')\n",
        "  print(summary)\n",
        "titles = soup.find_all(class_='-title')\n",
        "#print(titles)\n",
        "titles = soup.select('.-title')\n",
        "#print(titles)\n",
        "\n",
        "title_headings = soup.select('.-title > h2')\n",
        "print(title_headings)"
      ],
      "execution_count": 17,
      "outputs": [
        {
          "output_type": "stream",
          "text": [
            "[]\n",
            "[]\n"
          ],
          "name": "stdout"
        }
      ]
    },
    {
      "cell_type": "code",
      "metadata": {
        "id": "7YCyTZG0spje",
        "colab_type": "code",
        "colab": {}
      },
      "source": [
        "# this gets a list of all divs on the page\n",
        "# soup.find_all('div')\n",
        "\n",
        "# get just the divs with class *content*\n",
        "div = soup.find('div', class_='content')\n",
        "list = div.find('ol')\n",
        "items = list.find_all('li')\n",
        "jokes = [joke.get_text() for joke in items]\n",
        "print(jokes)"
      ],
      "execution_count": 0,
      "outputs": []
    }
  ]
}