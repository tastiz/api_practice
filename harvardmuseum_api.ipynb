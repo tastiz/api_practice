{
  "nbformat": 4,
  "nbformat_minor": 0,
  "metadata": {
    "colab": {
      "name": "harvardmuseum_api",
      "provenance": [],
      "authorship_tag": "ABX9TyNdrfLlmgO35M2e2aLCt4xd",
      "include_colab_link": true
    },
    "kernelspec": {
      "name": "python3",
      "display_name": "Python 3"
    }
  },
  "cells": [
    {
      "cell_type": "markdown",
      "metadata": {
        "id": "view-in-github",
        "colab_type": "text"
      },
      "source": [
        "<a href=\"https://colab.research.google.com/github/tastiz/api_practice/blob/master/harvardmuseum_api.ipynb\" target=\"_parent\"><img src=\"https://colab.research.google.com/assets/colab-badge.svg\" alt=\"Open In Colab\"/></a>"
      ]
    },
    {
      "cell_type": "code",
      "metadata": {
        "id": "VPlQfTKA7o5P",
        "colab_type": "code",
        "colab": {
          "base_uri": "https://localhost:8080/",
          "height": 71
        },
        "outputId": "38f55eb1-715c-4c3a-da48-b255f1b5bfd6"
      },
      "source": [
        "#harvard_api_key = 'e49eafe0-34a3-11ea-94f3-45811c77b195'\n",
        "\n",
        "import requests\n",
        "\n",
        "query = {'q' : 'culture:British', 'apikey': 'e49eafe0-34a3-11ea-94f3-45811c77b195'}\n",
        "url = 'https://api.harvardartmuseums.org/person?'\n",
        "response = requests.get(url, params=query)\n",
        "response.status_code\n",
        "response.ok\n",
        "print(response)\n",
        "data = response.json()\n",
        "data\n",
        "people = data['records']\n",
        "british_people = [{\n",
        "    'id':british_people['id'],\n",
        "    'birthpalce':british_people['birthplace']\n",
        "} for british_people in people] \n",
        "print(british_people[:5])"
      ],
      "execution_count": 9,
      "outputs": [
        {
          "output_type": "stream",
          "text": [
            "<Response [200]>\n",
            "[{'id': 746, 'birthpalce': None}, {'id': 18369, 'birthpalce': None}, {'id': 17981, 'birthpalce': None}, {'id': 18420, 'birthpalce': None}, {'id': 18809, 'birthpalce': None}]\n"
          ],
          "name": "stdout"
        }
      ]
    }
  ]
}